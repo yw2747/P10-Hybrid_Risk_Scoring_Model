{
 "cells": [
  {
   "cell_type": "code",
   "execution_count": 8,
   "metadata": {},
   "outputs": [
    {
     "name": "stdout",
     "output_type": "stream",
     "text": [
      "Data successfully loaded!\n"
     ]
    }
   ],
   "source": [
    "import pickle\n",
    "import pandas as pd\n",
    "import xgboost as xgb\n",
    "from sklearn.preprocessing import OneHotEncoder\n",
    "from sklearn.metrics import accuracy_score\n",
    "\n",
    "# Load dataset\n",
    "with open(\"train_val_test.pkl\", \"rb\") as f:\n",
    "    X_train, X_val, X_test, y_train, y_val, y_test = pickle.load(f)\n",
    "\n",
    "print(\"Data successfully loaded!\")\n"
   ]
  },
  {
   "cell_type": "code",
   "execution_count": 9,
   "metadata": {},
   "outputs": [
    {
     "name": "stdout",
     "output_type": "stream",
     "text": [
      "Categorical processing complete.\n"
     ]
    }
   ],
   "source": [
    "# Convert categorical features to category dtype for XGBoost\n",
    "categorical_features = [\"sub_grade\", \"purpose\"]\n",
    "for col in categorical_features:\n",
    "    X_train[col] = X_train[col].astype(\"category\")\n",
    "    X_val[col] = X_val[col].astype(\"category\")\n",
    "    X_test[col] = X_test[col].astype(\"category\")\n",
    "\n",
    "print(\"Categorical processing complete.\")\n"
   ]
  },
  {
   "cell_type": "code",
   "execution_count": 10,
   "metadata": {},
   "outputs": [
    {
     "name": "stdout",
     "output_type": "stream",
     "text": [
      "[0]\tvalidation_0-mlogloss:0.53990\n",
      "[1]\tvalidation_0-mlogloss:0.45770\n",
      "[2]\tvalidation_0-mlogloss:0.40920\n",
      "[3]\tvalidation_0-mlogloss:0.37998\n",
      "[4]\tvalidation_0-mlogloss:0.36153\n",
      "[5]\tvalidation_0-mlogloss:0.34989\n",
      "[6]\tvalidation_0-mlogloss:0.34248\n",
      "[7]\tvalidation_0-mlogloss:0.33798\n",
      "[8]\tvalidation_0-mlogloss:0.33512\n",
      "[9]\tvalidation_0-mlogloss:0.33340\n"
     ]
    },
    {
     "name": "stderr",
     "output_type": "stream",
     "text": [
      "/Users/jiaxuanliu/anaconda3/envs/math170/lib/python3.9/site-packages/xgboost/core.py:158: UserWarning: [18:15:39] WARNING: /Users/runner/work/xgboost/xgboost/src/learner.cc:740: \n",
      "Parameters: { \"use_label_encoder\" } are not used.\n",
      "\n",
      "  warnings.warn(smsg, UserWarning)\n"
     ]
    },
    {
     "name": "stdout",
     "output_type": "stream",
     "text": [
      "[10]\tvalidation_0-mlogloss:0.33216\n",
      "[11]\tvalidation_0-mlogloss:0.33152\n",
      "[12]\tvalidation_0-mlogloss:0.33100\n",
      "[13]\tvalidation_0-mlogloss:0.33069\n",
      "[14]\tvalidation_0-mlogloss:0.33069\n",
      "[15]\tvalidation_0-mlogloss:0.33052\n",
      "[16]\tvalidation_0-mlogloss:0.33053\n",
      "[17]\tvalidation_0-mlogloss:0.33046\n",
      "[18]\tvalidation_0-mlogloss:0.33053\n",
      "[19]\tvalidation_0-mlogloss:0.33082\n",
      "[20]\tvalidation_0-mlogloss:0.33056\n",
      "[21]\tvalidation_0-mlogloss:0.33075\n",
      "[22]\tvalidation_0-mlogloss:0.33090\n",
      "[23]\tvalidation_0-mlogloss:0.33107\n",
      "[24]\tvalidation_0-mlogloss:0.33146\n",
      "[25]\tvalidation_0-mlogloss:0.33164\n",
      "[26]\tvalidation_0-mlogloss:0.33199\n",
      "[27]\tvalidation_0-mlogloss:0.33224\n",
      "[28]\tvalidation_0-mlogloss:0.33230\n",
      "[29]\tvalidation_0-mlogloss:0.33248\n",
      "[30]\tvalidation_0-mlogloss:0.33268\n",
      "[31]\tvalidation_0-mlogloss:0.33264\n",
      "[32]\tvalidation_0-mlogloss:0.33281\n",
      "[33]\tvalidation_0-mlogloss:0.33290\n",
      "[34]\tvalidation_0-mlogloss:0.33335\n",
      "[35]\tvalidation_0-mlogloss:0.33375\n",
      "[36]\tvalidation_0-mlogloss:0.33382\n",
      "[37]\tvalidation_0-mlogloss:0.33408\n",
      "[38]\tvalidation_0-mlogloss:0.33422\n",
      "[39]\tvalidation_0-mlogloss:0.33458\n",
      "[40]\tvalidation_0-mlogloss:0.33458\n",
      "[41]\tvalidation_0-mlogloss:0.33491\n",
      "[42]\tvalidation_0-mlogloss:0.33513\n",
      "[43]\tvalidation_0-mlogloss:0.33531\n",
      "[44]\tvalidation_0-mlogloss:0.33542\n",
      "[45]\tvalidation_0-mlogloss:0.33568\n",
      "[46]\tvalidation_0-mlogloss:0.33620\n",
      "[47]\tvalidation_0-mlogloss:0.33611\n",
      "[48]\tvalidation_0-mlogloss:0.33643\n",
      "[49]\tvalidation_0-mlogloss:0.33683\n",
      "[50]\tvalidation_0-mlogloss:0.33702\n",
      "[51]\tvalidation_0-mlogloss:0.33718\n",
      "[52]\tvalidation_0-mlogloss:0.33751\n",
      "[53]\tvalidation_0-mlogloss:0.33770\n",
      "[54]\tvalidation_0-mlogloss:0.33816\n",
      "[55]\tvalidation_0-mlogloss:0.33849\n",
      "[56]\tvalidation_0-mlogloss:0.33863\n",
      "[57]\tvalidation_0-mlogloss:0.33889\n",
      "[58]\tvalidation_0-mlogloss:0.33912\n",
      "[59]\tvalidation_0-mlogloss:0.33915\n",
      "[60]\tvalidation_0-mlogloss:0.33986\n",
      "[61]\tvalidation_0-mlogloss:0.33993\n",
      "[62]\tvalidation_0-mlogloss:0.34018\n",
      "[63]\tvalidation_0-mlogloss:0.34029\n",
      "[64]\tvalidation_0-mlogloss:0.34029\n",
      "[65]\tvalidation_0-mlogloss:0.34056\n",
      "[66]\tvalidation_0-mlogloss:0.34088\n",
      "[67]\tvalidation_0-mlogloss:0.34094\n",
      "[68]\tvalidation_0-mlogloss:0.34119\n",
      "[69]\tvalidation_0-mlogloss:0.34137\n",
      "[70]\tvalidation_0-mlogloss:0.34155\n",
      "[71]\tvalidation_0-mlogloss:0.34160\n",
      "[72]\tvalidation_0-mlogloss:0.34170\n",
      "[73]\tvalidation_0-mlogloss:0.34196\n",
      "[74]\tvalidation_0-mlogloss:0.34233\n",
      "[75]\tvalidation_0-mlogloss:0.34248\n",
      "[76]\tvalidation_0-mlogloss:0.34261\n",
      "[77]\tvalidation_0-mlogloss:0.34261\n",
      "[78]\tvalidation_0-mlogloss:0.34294\n",
      "[79]\tvalidation_0-mlogloss:0.34322\n",
      "[80]\tvalidation_0-mlogloss:0.34364\n",
      "[81]\tvalidation_0-mlogloss:0.34374\n",
      "[82]\tvalidation_0-mlogloss:0.34395\n",
      "[83]\tvalidation_0-mlogloss:0.34403\n",
      "[84]\tvalidation_0-mlogloss:0.34400\n",
      "[85]\tvalidation_0-mlogloss:0.34416\n",
      "[86]\tvalidation_0-mlogloss:0.34420\n",
      "[87]\tvalidation_0-mlogloss:0.34439\n",
      "[88]\tvalidation_0-mlogloss:0.34456\n",
      "[89]\tvalidation_0-mlogloss:0.34456\n",
      "[90]\tvalidation_0-mlogloss:0.34492\n",
      "[91]\tvalidation_0-mlogloss:0.34516\n",
      "[92]\tvalidation_0-mlogloss:0.34535\n",
      "[93]\tvalidation_0-mlogloss:0.34547\n",
      "[94]\tvalidation_0-mlogloss:0.34558\n",
      "[95]\tvalidation_0-mlogloss:0.34569\n",
      "[96]\tvalidation_0-mlogloss:0.34592\n",
      "[97]\tvalidation_0-mlogloss:0.34605\n",
      "[98]\tvalidation_0-mlogloss:0.34642\n",
      "[99]\tvalidation_0-mlogloss:0.34654\n",
      "Model training complete.\n"
     ]
    }
   ],
   "source": [
    "import xgboost as xgb\n",
    "\n",
    "# Initialize XGBoost classifier\n",
    "xgb_model = xgb.XGBClassifier(\n",
    "    objective=\"multi:softmax\",  # Multi-class classification\n",
    "    num_class=len(y_train.unique()),  # Number of unique classes\n",
    "    tree_method=\"hist\",  # Faster training\n",
    "    enable_categorical=True,  # Use categorical support\n",
    "    use_label_encoder=False,\n",
    "    eval_metric=\"mlogloss\"  # Move eval_metric here\n",
    ")\n",
    "\n",
    "# Train the model with early stopping\n",
    "xgb_model.fit(\n",
    "    X_train, y_train,\n",
    "    eval_set=[(X_val, y_val)],  # Validation set\n",
    "    \n",
    ")\n",
    "\n",
    "print(\"Model training complete.\")\n"
   ]
  },
  {
   "cell_type": "code",
   "execution_count": 11,
   "metadata": {},
   "outputs": [
    {
     "name": "stdout",
     "output_type": "stream",
     "text": [
      "Test Accuracy: 0.8699\n"
     ]
    }
   ],
   "source": [
    "# Make predictions\n",
    "y_pred = xgb_model.predict(X_test)\n",
    "\n",
    "# Compute accuracy\n",
    "accuracy = accuracy_score(y_test, y_pred)\n",
    "print(f\"Test Accuracy: {accuracy:.4f}\")\n"
   ]
  },
  {
   "cell_type": "code",
   "execution_count": 12,
   "metadata": {},
   "outputs": [
    {
     "data": {
      "image/png": "[encoded data removed]",
      "text/plain": [
       "<Figure size 1000x600 with 1 Axes>"
      ]
     },
     "metadata": {},
     "output_type": "display_data"
    }
   ],
   "source": [
    "# Feature Importance\n",
    "import matplotlib.pyplot as plt\n",
    "import xgboost as xgb\n",
    "\n",
    "# Plot feature importance\n",
    "fig, ax = plt.subplots(figsize=(10, 6))\n",
    "xgb.plot_importance(xgb_model, importance_type=\"weight\", ax=ax)\n",
    "plt.title(\"Feature Importance (XGBoost)\")\n",
    "plt.show()"
   ]
  },
  {
   "cell_type": "code",
   "execution_count": 15,
   "metadata": {},
   "outputs": [
    {
     "data": {
      "text/html": [
       "<div>\n",
       "<style scoped>\n",
       "    .dataframe tbody tr th:only-of-type {\n",
       "        vertical-align: middle;\n",
       "    }\n",
       "\n",
       "    .dataframe tbody tr th {\n",
       "        vertical-align: top;\n",
       "    }\n",
       "\n",
       "    .dataframe thead th {\n",
       "        text-align: right;\n",
       "    }\n",
       "</style>\n",
       "<table border=\"1\" class=\"dataframe\">\n",
       "  <thead>\n",
       "    <tr style=\"text-align: right;\">\n",
       "      <th></th>\n",
       "      <th>Feature</th>\n",
       "      <th>Importance</th>\n",
       "    </tr>\n",
       "  </thead>\n",
       "  <tbody>\n",
       "    <tr>\n",
       "      <th>7</th>\n",
       "      <td>sub_grade</td>\n",
       "      <td>1987.0</td>\n",
       "    </tr>\n",
       "    <tr>\n",
       "      <th>10</th>\n",
       "      <td>dti</td>\n",
       "      <td>1502.0</td>\n",
       "    </tr>\n",
       "    <tr>\n",
       "      <th>0</th>\n",
       "      <td>id</td>\n",
       "      <td>1487.0</td>\n",
       "    </tr>\n",
       "    <tr>\n",
       "      <th>9</th>\n",
       "      <td>annual_inc</td>\n",
       "      <td>1257.0</td>\n",
       "    </tr>\n",
       "    <tr>\n",
       "      <th>6</th>\n",
       "      <td>installment</td>\n",
       "      <td>1005.0</td>\n",
       "    </tr>\n",
       "    <tr>\n",
       "      <th>11</th>\n",
       "      <td>purpose</td>\n",
       "      <td>981.0</td>\n",
       "    </tr>\n",
       "    <tr>\n",
       "      <th>8</th>\n",
       "      <td>emp_length</td>\n",
       "      <td>797.0</td>\n",
       "    </tr>\n",
       "    <tr>\n",
       "      <th>1</th>\n",
       "      <td>funded_amnt</td>\n",
       "      <td>449.0</td>\n",
       "    </tr>\n",
       "    <tr>\n",
       "      <th>5</th>\n",
       "      <td>int_rate</td>\n",
       "      <td>414.0</td>\n",
       "    </tr>\n",
       "    <tr>\n",
       "      <th>3</th>\n",
       "      <td>funded_amnt_inv</td>\n",
       "      <td>299.0</td>\n",
       "    </tr>\n",
       "    <tr>\n",
       "      <th>2</th>\n",
       "      <td>loan_amnt</td>\n",
       "      <td>92.0</td>\n",
       "    </tr>\n",
       "    <tr>\n",
       "      <th>4</th>\n",
       "      <td>term</td>\n",
       "      <td>71.0</td>\n",
       "    </tr>\n",
       "  </tbody>\n",
       "</table>\n",
       "</div>"
      ],
      "text/plain": [
       "            Feature  Importance\n",
       "7         sub_grade      1987.0\n",
       "10              dti      1502.0\n",
       "0                id      1487.0\n",
       "9        annual_inc      1257.0\n",
       "6       installment      1005.0\n",
       "11          purpose       981.0\n",
       "8        emp_length       797.0\n",
       "1       funded_amnt       449.0\n",
       "5          int_rate       414.0\n",
       "3   funded_amnt_inv       299.0\n",
       "2         loan_amnt        92.0\n",
       "4              term        71.0"
      ]
     },
     "execution_count": 15,
     "metadata": {},
     "output_type": "execute_result"
    }
   ],
   "source": [
    "# Get feature importance scores\n",
    "feature_importance = xgb_model.get_booster().get_score(importance_type=\"weight\")\n",
    "\n",
    "# Convert to DataFrame for better readability\n",
    "importance_df = pd.DataFrame(\n",
    "    feature_importance.items(),\n",
    "    columns=[\"Feature\", \"Importance\"]\n",
    ").sort_values(by=\"Importance\", ascending=False)\n",
    "\n",
    "importance_df"
   ]
  }
 ],
 "metadata": {
  "kernelspec": {
   "display_name": "math170",
   "language": "python",
   "name": "python3"
  },
  "language_info": {
   "codemirror_mode": {
    "name": "ipython",
    "version": 3
   },
   "file_extension": ".py",
   "mimetype": "text/x-python",
   "name": "python",
   "nbconvert_exporter": "python",
   "pygments_lexer": "ipython3",
   "version": "3.9.17"
  },
  "orig_nbformat": 4
 },
 "nbformat": 4,
 "nbformat_minor": 2
}
